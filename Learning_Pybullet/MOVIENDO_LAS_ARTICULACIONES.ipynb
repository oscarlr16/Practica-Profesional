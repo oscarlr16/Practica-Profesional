{
 "cells": [
  {
   "cell_type": "markdown",
   "id": "ac2e5c95",
   "metadata": {},
   "source": [
    "## CODIGO PARA DAR MOVIEMIENTO A LAS ARTICULACIONES"
   ]
  },
  {
   "cell_type": "code",
   "execution_count": 1,
   "id": "85e88c86",
   "metadata": {},
   "outputs": [],
   "source": [
    "import pybullet as p\n",
    "import time\n",
    "import pybullet_data"
   ]
  },
  {
   "cell_type": "code",
   "execution_count": 17,
   "id": "b7e3d889",
   "metadata": {},
   "outputs": [
    {
     "ename": "error",
     "evalue": "Not connected to physics server.",
     "output_type": "error",
     "traceback": [
      "\u001b[1;31m---------------------------------------------------------------------------\u001b[0m",
      "\u001b[1;31merror\u001b[0m                                     Traceback (most recent call last)",
      "\u001b[1;32m~\\AppData\\Local\\Temp/ipykernel_6104/2270743865.py\u001b[0m in \u001b[0;36m<module>\u001b[1;34m\u001b[0m\n\u001b[0;32m     23\u001b[0m \u001b[1;31m#p.setJointMotorControl2(robotID,jointIndex=0,controlMode=p.POSITION_CONTROL,targetVelocity = 10)\u001b[0m\u001b[1;33m\u001b[0m\u001b[1;33m\u001b[0m\u001b[0m\n\u001b[0;32m     24\u001b[0m \u001b[1;32mfor\u001b[0m \u001b[0mi\u001b[0m \u001b[1;32min\u001b[0m \u001b[0mrange\u001b[0m \u001b[1;33m(\u001b[0m\u001b[1;36m100000\u001b[0m\u001b[1;33m)\u001b[0m\u001b[1;33m:\u001b[0m\u001b[1;33m\u001b[0m\u001b[1;33m\u001b[0m\u001b[0m\n\u001b[1;32m---> 25\u001b[1;33m     \u001b[0mp\u001b[0m\u001b[1;33m.\u001b[0m\u001b[0mstepSimulation\u001b[0m\u001b[1;33m(\u001b[0m\u001b[1;33m)\u001b[0m\u001b[1;33m\u001b[0m\u001b[1;33m\u001b[0m\u001b[0m\n\u001b[0m\u001b[0;32m     26\u001b[0m     \u001b[0mtime\u001b[0m\u001b[1;33m.\u001b[0m\u001b[0msleep\u001b[0m\u001b[1;33m(\u001b[0m\u001b[1;36m1.\u001b[0m\u001b[1;33m/\u001b[0m\u001b[1;36m240.\u001b[0m\u001b[1;33m)\u001b[0m\u001b[1;33m\u001b[0m\u001b[1;33m\u001b[0m\u001b[0m\n\u001b[0;32m     27\u001b[0m \u001b[0mp\u001b[0m\u001b[1;33m.\u001b[0m\u001b[0mdisconnect\u001b[0m\u001b[1;33m(\u001b[0m\u001b[1;33m)\u001b[0m\u001b[1;33m\u001b[0m\u001b[1;33m\u001b[0m\u001b[0m\n",
      "\u001b[1;31merror\u001b[0m: Not connected to physics server."
     ]
    }
   ],
   "source": [
    "\n",
    "path_robot = \"C:/Users/osciv/Documents/Practicas/Programa/Learning_Pybullet/R_URDF/ROBOT2GDL.SLDASM/urdf/ROBOT2GDL.SLDASM.urdf\"\n",
    "\n",
    "physicsClient = p.connect(p.GUI)#or p.DIRECT for non-graphical version\n",
    "p.setAdditionalSearchPath(pybullet_data.getDataPath()) #optionally\n",
    "p.setGravity(0,0,-9.81)\n",
    "p.resetDebugVisualizerCamera(cameraDistance=2, cameraYaw=90, cameraPitch=0, cameraTargetPosition=[1, 0, 1])\n",
    "planeId = p.loadURDF(\"plane.urdf\")\n",
    "startPos = [0,0,1]\n",
    "startOrientation = p.getQuaternionFromEuler([0,0,0])\n",
    "robotID = p.loadURDF(path_robot,[0, 0, 0], useFixedBase=1)\n",
    "#j = p.getNumJoints(robotID)\n",
    "# p.setJointMotorControl2(robotID,joint,controlMode,targetPosition,positionGain,velocityGain,force,maxVelocity,physicsClientId)\n",
    "p.setJointMotorControl2(\n",
    "                        robotID,\n",
    "                        jointIndex = 0,\n",
    "                        controlMode = p.POSITION_CONTROL,\n",
    "                        targetPosition = 1.0)\n",
    "#p.setJointMotorControl2(robotID,jointIndex=0,controlMode=p.POSITION_CONTROL,targetVelocity = 10)\n",
    "for i in range (100000):\n",
    "    p.stepSimulation()\n",
    "    time.sleep(1./240.)\n",
    "p.disconnect()"
   ]
  },
  {
   "cell_type": "code",
   "execution_count": null,
   "id": "befeb59d",
   "metadata": {},
   "outputs": [],
   "source": []
  }
 ],
 "metadata": {
  "kernelspec": {
   "display_name": "Python 3 (ipykernel)",
   "language": "python",
   "name": "python3"
  },
  "language_info": {
   "codemirror_mode": {
    "name": "ipython",
    "version": 3
   },
   "file_extension": ".py",
   "mimetype": "text/x-python",
   "name": "python",
   "nbconvert_exporter": "python",
   "pygments_lexer": "ipython3",
   "version": "3.9.7"
  }
 },
 "nbformat": 4,
 "nbformat_minor": 5
}
