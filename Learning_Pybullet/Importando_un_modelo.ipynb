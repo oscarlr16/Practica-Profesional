{
 "cells": [
  {
   "cell_type": "markdown",
   "id": "f2749b30",
   "metadata": {},
   "source": [
    "# Hello PyBullet World"
   ]
  },
  {
   "cell_type": "markdown",
   "id": "5cdd55cf",
   "metadata": {},
   "source": [
    "Para entender el simulador creado por Sunbin Kim (https://github.com/Einsbon/bipedal-robot-walking-simulation.git) es necesario conocer el entorno de Pybullet. Por lo tanto, veremos cómo es que se importa un modelo CAD y como darle movimiento.\n",
    "A continuación se muestra el hola mundo de Pybullet, este que código fue obtenido de PyBullet Quickstart Guide\n",
    ": https://docs.google.com/document/d/10sXEhzFRSnvFcl3XxNGhnD4N2SedqwdAvK3dsihxVUA/edit#heading=h.btdfuxtf2f72"
   ]
  },
  {
   "cell_type": "code",
   "execution_count": null,
   "id": "c3c23776",
   "metadata": {},
   "outputs": [],
   "source": [
    "import pybullet as p\n",
    "import time\n",
    "import pybullet_data\n",
    "physicsClient = p.connect(p.GUI)#or p.DIRECT for non-graphical version\n",
    "p.setAdditionalSearchPath(pybullet_data.getDataPath()) #optionally\n",
    "p.setGravity(0,0,-10)\n",
    "planeId = p.loadURDF(\"plane.urdf\")\n",
    "startPos = [0,0,1]\n",
    "startOrientation = p.getQuaternionFromEuler([0,0,0])\n",
    "boxId = p.loadURDF(\"r2d2.urdf\",startPos, startOrientation)\n",
    "#set the center of mass frame (loadURDF sets base link frame) startPos/Ornp.resetBasePositionAndOrientation(boxId, startPos, startOrientation)\n",
    "for i in range (10000):\n",
    "    p.stepSimulation()\n",
    "    time.sleep(1./240.)\n",
    "cubePos, cubeOrn = p.getBasePositionAndOrientation(boxId)\n",
    "print(cubePos,cubeOrn)\n",
    "p.disconnect()\n"
   ]
  },
  {
   "cell_type": "markdown",
   "id": "53416282",
   "metadata": {},
   "source": [
    "# Importando un modelo propio\n",
    "Para poder importar tu modelo es necesario transformar tu archivo CAD a un formato URDF. En este caso se creó el modelo en SolidWorks y después usando la extensión sw_urdf_exporter. El archivo para importar es un robot manipulador de 2 grados de libertad."
   ]
  },
  {
   "cell_type": "code",
   "execution_count": null,
   "id": "b8dde0a8",
   "metadata": {
    "scrolled": true
   },
   "outputs": [],
   "source": [
    "import pybullet as p\n",
    "import time\n",
    "import pybullet_data\n",
    "import os\n",
    "\n",
    "path_robot = \"C:/Users/osciv/Documents/Practicas/Programa/Learning_Pybullet/R_URDF/ROBOT2GDL.SLDASM/urdf/ROBOT2GDL.SLDASM.urdf\"\n",
    "\n",
    "physicsClient = p.connect(p.GUI)#or p.DIRECT for non-graphical version\n",
    "p.setAdditionalSearchPath(pybullet_data.getDataPath()) #optionally\n",
    "p.setGravity(0,0,-9.81)\n",
    "p.resetDebugVisualizerCamera(cameraDistance=2, cameraYaw=90, cameraPitch=0, cameraTargetPosition=[1, 0, 1])\n",
    "planeId = p.loadURDF(\"plane.urdf\")\n",
    "startPos = [0,0,1]\n",
    "startOrientation = p.getQuaternionFromEuler([0,0,0])\n",
    "robotID = p.loadURDF(path_robot,startPos, startOrientation)\n",
    "#j = p.getNumJoints(robotID)\n",
    "p.setJointMotorControl2(robotID,1,p.POSITION_CONTROL,targetPosition=0.0,force=10,maxVelocity=5)\n",
    "for i in range (10000):\n",
    "    p.stepSimulation()\n",
    "    time.sleep(1./240.)\n",
    "p.disconnect()"
   ]
  },
  {
   "cell_type": "markdown",
   "id": "5790a5be",
   "metadata": {},
   "source": [
    "# CODIGO PARA DAR MOVIEMIENTO A LAS ARTICULACIONES"
   ]
  },
  {
   "cell_type": "markdown",
   "id": "0e9c86ea",
   "metadata": {},
   "source": [
    "Para hacer esto es necesario usar la funcion setJointMotorControl2. Esta funcion recibe como parametros:\n",
    "\n",
    "| |Name|Type|description|\n",
    "|---|---|---|---|\n",
    "|required|bodyUniqueId|int|body unique id as returned from loadURDF etc|\n",
    "|required|jointIndex|int|link index in range [0..getNumJoints(bodyUniqueId) (note that link index == joint index)|\n",
    "|required|controlMode|int|POSITION_CONTROL (which is in fact CONTROL_MODE_POSITION_VELOCITY_PD), VELOCITY_CONTROL, TORQUE_CONTROL and PD_CONTROL. (There is also experimental STABLE_PD_CONTROL for stable(implicit) PD control, which requires additional preparation. See humanoidMotionCapture.py and pybullet_envs.deep_mimc for STABLE_PD_CONTROL examples.) TORQUE_CONTROL will apply a torque instantly, so it only is effective when calling stepSimulation explicitly.\n",
    "|\n",
    "|optional|targetPosition|float|in POSITION_CONTROL the targetValue is target position of the joint|\n",
    "|optional|targetVelocity|float|in VELOCITY_CONTROL and POSITION_CONTROL  the targetVelocity is the desired velocity of the joint, see implementation note below. Note that the targetVelocity is not the maximum joint velocity. In PD_CONTROL and POSITION_CONTROL/CONTROL_MODE_POSITION_VELOCITY_PD, the final target velocity is computed using: kp*(erp*(desiredPosition-currentPosition)/dt)+currentVelocity+kd*(m_desiredVelocity - currentVelocity). See also examples/pybullet/examples/pdControl.py|\n",
    "|required|force|float|in POSITION_CONTROL and VELOCITY_CONTROL this is the maximum motor force used to reach the target value. In TORQUE_CONTROL this is the force/torque to be applied each simulation step.|\n",
    "|optional|positionGain|float|Gain for position control|\n",
    "|optional|velocityGain|float|Gain for velocity control|\n",
    "|optional|maxVelocity|float|in POSITION_CONTROL this limits the velocity to a maximum|\n",
    "|optional|physicsClientId|int|if you are connected to multiple servers, you can pick one.|\n",
    "\n",
    "Implenetaremos esta funcion a nuestro modelo para mover las articulaciones de nuestro robot."
   ]
  },
  {
   "cell_type": "code",
   "execution_count": null,
   "id": "27579a2a",
   "metadata": {},
   "outputs": [],
   "source": [
    "path_robot = \"C:/Users/osciv/Documents/Practicas/Programa/Learning_Pybullet/R_URDF/ROBOT2GDL.SLDASM/urdf/ROBOT2GDL.SLDASM.urdf\"\n",
    "\n",
    "physicsClient = p.connect(p.GUI)#or p.DIRECT for non-graphical version\n",
    "p.setAdditionalSearchPath(pybullet_data.getDataPath()) #optionally\n",
    "p.setGravity(0,0,-9.81)\n",
    "p.resetDebugVisualizerCamera(cameraDistance=2, cameraYaw=90, cameraPitch=0, cameraTargetPosition=[1, 0, 1])\n",
    "planeId = p.loadURDF(\"plane.urdf\")\n",
    "startPos = [0,0,1]\n",
    "startOrientation = p.getQuaternionFromEuler([0,0,0])\n",
    "robotID = p.loadURDF(path_robot,[0, 0, 0], useFixedBase=1)\n",
    "\n",
    "# p.setJointMotorControl2(robotID,joint,controlMode,targetPosition,positionGain,velocityGain,force,maxVelocity,physicsClientId)\n",
    "p.setJointMotorControl2(\n",
    "                        robotID,\n",
    "                        jointIndex = 0,\n",
    "                        controlMode = p.POSITION_CONTROL,\n",
    "                        targetVelocity = 45)\n",
    "for i in range (100000):\n",
    "    p.stepSimulation()\n",
    "    time.sleep(1./240.)\n",
    "p.disconnect()"
   ]
  }
 ],
 "metadata": {
  "kernelspec": {
   "display_name": "Python 3 (ipykernel)",
   "language": "python",
   "name": "python3"
  },
  "language_info": {
   "codemirror_mode": {
    "name": "ipython",
    "version": 3
   },
   "file_extension": ".py",
   "mimetype": "text/x-python",
   "name": "python",
   "nbconvert_exporter": "python",
   "pygments_lexer": "ipython3",
   "version": "3.9.7"
  }
 },
 "nbformat": 4,
 "nbformat_minor": 5
}
