{
 "cells": [
  {
   "cell_type": "code",
   "execution_count": 1,
   "id": "a0d213a2",
   "metadata": {},
   "outputs": [],
   "source": [
    "import numpy as np #Librería numérica\n",
    "import matplotlib.pyplot as plt #Librería \n",
    "from sklearn.linear_model import LinearRegression\n",
    "# %matplotlib comando para piner los datos fuera de jupyter"
   ]
  },
  {
   "cell_type": "markdown",
   "id": "04293777",
   "metadata": {},
   "source": [
    "## Datos de ejemplos"
   ]
  },
  {
   "cell_type": "code",
   "execution_count": 2,
   "id": "e3c5b864",
   "metadata": {},
   "outputs": [],
   "source": [
    "def f(x):  \n",
    "    np.random.seed(42) \n",
    "    y = 0.1*x + 1.25 + 0.2*np.random.randn(x.shape[0])\n",
    "    return y"
   ]
  },
  {
   "cell_type": "code",
   "execution_count": 3,
   "id": "ba1c1341",
   "metadata": {},
   "outputs": [
    {
     "data": {
      "text/plain": [
       "Text(0.5, 1.0, 'Datos')"
      ]
     },
     "execution_count": 3,
     "metadata": {},
     "output_type": "execute_result"
    },
    {
     "data": {
      "image/png": "[encoded data removed]",
      "text/plain": [
       "<Figure size 432x288 with 1 Axes>"
      ]
     },
     "metadata": {
      "needs_background": "light"
     },
     "output_type": "display_data"
    }
   ],
   "source": [
    "x = np.arange(0,20,0.5) # Se generan valores de 0 a 2 en intervalos de 0.5\n",
    "y = f(x)\n",
    "\n",
    "plt.scatter(x,y,label='data',color='blue')\n",
    "plt.title('Datos')"
   ]
  },
  {
   "cell_type": "markdown",
   "id": "0b0ec910",
   "metadata": {},
   "source": [
    "## Entrenando el modelo de regresión lineal"
   ]
  },
  {
   "cell_type": "code",
   "execution_count": 4,
   "id": "d4c97964",
   "metadata": {},
   "outputs": [
    {
     "name": "stdout",
     "output_type": "stream",
     "text": [
      "w = [0.09183522], b = 1.2858792525736682\n"
     ]
    }
   ],
   "source": [
    "regresion_lineal = LinearRegression() # Instancia de  LinearRegression\n",
    "regresion_lineal.fit(x.reshape(-1,1),y)#Se le dan los datos a la regresion lienal para que aprenda los datos (x,y)\n",
    "print('w = ' + str(regresion_lineal.coef_) + ', b = ' + str(regresion_lineal.intercept_))"
   ]
  },
  {
   "cell_type": "markdown",
   "id": "470e7d8d",
   "metadata": {},
   "source": [
    "## Prediciendo con Regresión Lineal en python"
   ]
  },
  {
   "cell_type": "code",
   "execution_count": 5,
   "id": "94cf4518",
   "metadata": {},
   "outputs": [
    {
     "name": "stdout",
     "output_type": "stream",
     "text": [
      "[1.74505534]\n",
      "1.7450553525736683\n"
     ]
    }
   ],
   "source": [
    "#Realmente se evalua la funcion f(5)=?\n",
    "v = 5\n",
    "nuevo_x = np.array([v])\n",
    "prediccion = regresion_lineal.predict(nuevo_x.reshape(-1,1))\n",
    "x_y = 0.09183522*v+1.2858792525736682\n",
    "print(prediccion)\n",
    "print(x_y)"
   ]
  },
  {
   "cell_type": "markdown",
   "id": "c5f649ff",
   "metadata": {},
   "source": [
    "## Evaluando la calidad de la regresión lineal\n",
    "### Error Cuadrático Medio"
   ]
  },
  {
   "cell_type": "code",
   "execution_count": 6,
   "id": "52ed3f21",
   "metadata": {},
   "outputs": [
    {
     "name": "stdout",
     "output_type": "stream",
     "text": [
      "Error Cuadrático Medio (MSE) = 0.03318522012927899\n",
      "Raíz del Error Cuadrático Medio (RMSE) = 0.18216810952875093\n"
     ]
    }
   ],
   "source": [
    "from sklearn.metrics import mean_squared_error\n",
    "prediccion_entrenamiento = regresion_lineal.predict(x.reshape(-1,1))\n",
    "#Se calcula el error cuadratico medio\n",
    "mse = mean_squared_error(y_true = y, y_pred = prediccion_entrenamiento)\n",
    "rmse = np.sqrt(mse)\n",
    "print('Error Cuadrático Medio (MSE) = ' + str(mse))\n",
    "print('Raíz del Error Cuadrático Medio (RMSE) = ' + str(rmse))"
   ]
  },
  {
   "cell_type": "markdown",
   "id": "f8e83263",
   "metadata": {},
   "source": [
    "### Coeficiente de determinación $R^2$\n",
    "El coeficiente de determinación $R^2$ determina la calidad del modelo para replicar los resultados, y la proporción de variación de los resultados que puede explicarse por el modelo."
   ]
  },
  {
   "cell_type": "code",
   "execution_count": 7,
   "id": "2a06dfc6",
   "metadata": {},
   "outputs": [
    {
     "name": "stdout",
     "output_type": "stream",
     "text": [
      "Coeficiente de Determinación R2 = 0.8943593637683117\n"
     ]
    }
   ],
   "source": [
    "r2 = regresion_lineal.score(x.reshape(-1,1), y)\n",
    "print('Coeficiente de Determinación R2 = ' + str(r2))"
   ]
  }
 ],
 "metadata": {
  "kernelspec": {
   "display_name": "Python 3 (ipykernel)",
   "language": "python",
   "name": "python3"
  },
  "language_info": {
   "codemirror_mode": {
    "name": "ipython",
    "version": 3
   },
   "file_extension": ".py",
   "mimetype": "text/x-python",
   "name": "python",
   "nbconvert_exporter": "python",
   "pygments_lexer": "ipython3",
   "version": "3.9.7"
  }
 },
 "nbformat": 4,
 "nbformat_minor": 5
}
