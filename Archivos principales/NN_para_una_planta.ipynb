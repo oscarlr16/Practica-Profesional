{
 "cells": [
  {
   "cell_type": "markdown",
   "id": "fc9374c9",
   "metadata": {},
   "source": [
    "# Entrenamiento de una red neuronal para la prediccion de una planta de segundo orden"
   ]
  },
  {
   "cell_type": "markdown",
   "id": "9f0e6840",
   "metadata": {},
   "source": [
    "El objetivo es crear un modelo de basado en una red neuronal que sea capaz de replicar el comportamiento de una planta de segundo orden.\n",
    "La intención es que encuentre una correlación entre dos datos de entrada, distintas entradas a la planta y el tiempo; con respecto a la salida de la planta original."
   ]
  },
  {
   "cell_type": "code",
   "execution_count": 2,
   "id": "c520478f",
   "metadata": {},
   "outputs": [],
   "source": [
    "from keras.models import Sequential\n",
    "from keras.layers import Dense\n",
    "import numpy as np \n",
    "import matplotlib.pyplot as plt\n",
    "from sklearn.preprocessing import MinMaxScaler\n",
    "\n",
    "\n",
    "seed = 7\n",
    "np.random.seed(seed)\n",
    "\n",
    "# Cargar el dataset de planta.csv\n",
    "dataset = np.loadtxt(\"planta.csv\",delimiter=\",\")"
   ]
  },
  {
   "cell_type": "code",
   "execution_count": 3,
   "id": "86440f79",
   "metadata": {},
   "outputs": [
    {
     "data": {
      "text/plain": [
       "(10, 100)"
      ]
     },
     "execution_count": 3,
     "metadata": {},
     "output_type": "execute_result"
    }
   ],
   "source": [
    "dataset.shape"
   ]
  },
  {
   "cell_type": "code",
   "execution_count": 4,
   "id": "4bf22510",
   "metadata": {},
   "outputs": [],
   "source": [
    "tiempo = [i for i in range(0,100)]\n",
    "x = np.array(tiempo)\n",
    "y = dataset[1,:]"
   ]
  },
  {
   "cell_type": "code",
   "execution_count": 5,
   "id": "00b9a5c5",
   "metadata": {},
   "outputs": [],
   "source": [
    "x = x.reshape((len(x), 1))\n",
    "y = y.reshape((len(y), 1))"
   ]
  },
  {
   "cell_type": "code",
   "execution_count": 6,
   "id": "322802a1",
   "metadata": {},
   "outputs": [
    {
     "name": "stdout",
     "output_type": "stream",
     "text": [
      "0.0 1.0 0.0 1.0\n"
     ]
    }
   ],
   "source": [
    "scale_x = MinMaxScaler()\n",
    "x = scale_x.fit_transform(x)\n",
    "scale_y = MinMaxScaler()\n",
    "y = scale_y.fit_transform(y)\n",
    "print(x.min(), x.max(), y.min(), y.max())"
   ]
  },
  {
   "cell_type": "code",
   "execution_count": 26,
   "id": "94947838",
   "metadata": {},
   "outputs": [],
   "source": [
    "model = Sequential()\n",
    "model.add(Dense(100, input_dim=1, activation='relu', kernel_initializer='he_uniform'))\n",
    "model.add(Dense(50, activation='relu', kernel_initializer='he_uniform'))\n",
    "model.add(Dense(35, activation='relu', kernel_initializer='he_uniform'))\n",
    "model.add(Dense(1, activation='sigmoid',kernel_initializer='uniform'))"
   ]
  },
  {
   "cell_type": "code",
   "execution_count": 27,
   "id": "630e2387",
   "metadata": {},
   "outputs": [],
   "source": [
    "model.compile(loss = 'mse', optimizer='adam')"
   ]
  },
  {
   "cell_type": "code",
   "execution_count": 28,
   "id": "d1da61c6",
   "metadata": {},
   "outputs": [
    {
     "data": {
      "text/plain": [
       "<keras.callbacks.History at 0x21be2567fa0>"
      ]
     },
     "execution_count": 28,
     "metadata": {},
     "output_type": "execute_result"
    }
   ],
   "source": [
    "model.fit(x, y, epochs=1000, batch_size=50, verbose=0)"
   ]
  },
  {
   "cell_type": "code",
   "execution_count": 29,
   "id": "edef266e",
   "metadata": {},
   "outputs": [],
   "source": [
    "y_p = model.predict(x)"
   ]
  },
  {
   "cell_type": "code",
   "execution_count": 30,
   "id": "16487871",
   "metadata": {},
   "outputs": [],
   "source": [
    "# Se reinvierte la escala\n",
    "x_plot = scale_x.inverse_transform(x)\n",
    "y_plot = scale_y.inverse_transform(y)\n",
    "y_p_plot = scale_y.inverse_transform(y_p)"
   ]
  },
  {
   "cell_type": "code",
   "execution_count": 31,
   "id": "9dde4bf1",
   "metadata": {},
   "outputs": [
    {
     "data": {
      "image/png": "[encoded data removed]",
      "text/plain": [
       "<Figure size 432x288 with 1 Axes>"
      ]
     },
     "metadata": {
      "needs_background": "light"
     },
     "output_type": "display_data"
    }
   ],
   "source": [
    "# plot x vs yhat\n",
    "\n",
    "plt.plot(x_plot,y_p_plot, label='Predicción')\n",
    "\n",
    "\n",
    "plt.plot(x_plot,y_plot, label='Original')\n",
    "plt.title('Entrada (x) vs salida (y)')\n",
    "plt.xlabel('Entrada Variable (x)')\n",
    "plt.ylabel('salida Variable (y)')\n",
    "\n",
    "plt.legend()\n",
    "plt.show()"
   ]
  },
  {
   "cell_type": "markdown",
   "id": "0a593ac5",
   "metadata": {},
   "source": [
    "Como vemos solo hemos logrado que la red neuronal aprenda el comportamiento de la plata solo con una entrada, el objetivo que buscamos es que sea una red neuronal  capaz de predecir el comportamiento de la planta con distintas entradas, por lo tanto, también hay que tomar en cuenta las diez entradas calculadas en el data set y después probar que la red sea capaz de predecir el comportamiento de la entra con cualquier entrada.\n",
    "Es decir que la red neuronal en lugar de predecir una funcion en 2D sea capaz de recrear una superficie 3D como la vista en el cuaderno \"Planta_Data_base\""
   ]
  }
 ],
 "metadata": {
  "kernelspec": {
   "display_name": "Python 3 (ipykernel)",
   "language": "python",
   "name": "python3"
  },
  "language_info": {
   "codemirror_mode": {
    "name": "ipython",
    "version": 3
   },
   "file_extension": ".py",
   "mimetype": "text/x-python",
   "name": "python",
   "nbconvert_exporter": "python",
   "pygments_lexer": "ipython3",
   "version": "3.9.7"
  }
 },
 "nbformat": 4,
 "nbformat_minor": 5
}
